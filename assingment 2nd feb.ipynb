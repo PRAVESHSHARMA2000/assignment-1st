{
 "cells": [
  {
   "cell_type": "code",
   "execution_count": 2,
   "id": "9d7b6380-392a-40d3-9690-137b17b550a1",
   "metadata": {},
   "outputs": [
    {
     "ename": "SyntaxError",
     "evalue": "invalid syntax (2546315332.py, line 1)",
     "output_type": "error",
     "traceback": [
      "\u001b[0;36m  Cell \u001b[0;32mIn[2], line 1\u001b[0;36m\u001b[0m\n\u001b[0;31m    Q1. Explain with an example each when to use a for loop and when a use for while loop\u001b[0m\n\u001b[0m                ^\u001b[0m\n\u001b[0;31mSyntaxError\u001b[0m\u001b[0;31m:\u001b[0m invalid syntax\n"
     ]
    }
   ],
   "source": [
    "Q1. Explain with an example each when to use a for loop and when a use for while loop \n",
    " \n",
    "ANS. .FOR LOOP = In for loop statement is executed then after  increment/decrement the values.\n",
    "     \n",
    "    for i in range(9): 0 1 2 3 4 5 6 7 8\n",
    "        print(i)\n",
    "        \n",
    "    . while loop = In while loop statement is executed then before or after increment/decrement the vlue\n",
    "    \n",
    "    while x <= 5:\n",
    "        print(x)"
   ]
  },
  {
   "cell_type": "code",
   "execution_count": null,
   "id": "592f8053-6c65-41c4-8253-c73c4b969d66",
   "metadata": {},
   "outputs": [],
   "source": [
    "Q2 "
   ]
  },
  {
   "cell_type": "code",
   "execution_count": 8,
   "id": "02a8ccf5-d657-4a1f-b593-a6d00976b455",
   "metadata": {},
   "outputs": [
    {
     "name": "stdout",
     "output_type": "stream",
     "text": [
      "1\n",
      "2\n",
      "3\n",
      "4\n",
      "5\n",
      "6\n",
      "7\n",
      "8\n",
      "9\n",
      "10\n"
     ]
    }
   ],
   "source": [
    "\n",
    " for i in range (1, 11):\n",
    "        print(i)"
   ]
  },
  {
   "cell_type": "code",
   "execution_count": 19,
   "id": "d93e6287-5c78-4f3c-ae38-c6d7ca74d757",
   "metadata": {},
   "outputs": [
    {
     "name": "stdout",
     "output_type": "stream",
     "text": [
      "1\n",
      "2\n",
      "3\n",
      "4\n",
      "5\n",
      "6\n",
      "7\n",
      "8\n",
      "9\n",
      "10\n"
     ]
    }
   ],
   "source": [
    "i = 1\n",
    "while (i <= 10):\n",
    "    print(i)\n",
    "    i += 1\n",
    "    \n",
    "    "
   ]
  },
  {
   "cell_type": "code",
   "execution_count": 22,
   "id": "a5d8f714-3e1f-4d81-bfdb-a32c6b5ba9dd",
   "metadata": {},
   "outputs": [
    {
     "ename": "IndentationError",
     "evalue": "unexpected indent (2199827485.py, line 2)",
     "output_type": "error",
     "traceback": [
      "\u001b[0;36m  Cell \u001b[0;32mIn[22], line 2\u001b[0;36m\u001b[0m\n\u001b[0;31m    if unit <= 100 :\u001b[0m\n\u001b[0m    ^\u001b[0m\n\u001b[0;31mIndentationError\u001b[0m\u001b[0;31m:\u001b[0m unexpected indent\n"
     ]
    }
   ],
   "source": [
    "unit = int(input(\"enter your units\"))\n",
    " if unit <= 100 :\n",
    "        print('your total electricity bill is :Rs',(unit * 4.5))\n",
    "        \n",
    "        \n",
    "        \n",
    "        "
   ]
  },
  {
   "cell_type": "code",
   "execution_count": null,
   "id": "928bd90e-c257-4d0f-9b3d-cf10a1c7fd1c",
   "metadata": {},
   "outputs": [],
   "source": [
    " please give the solutions of other and also wrong answer"
   ]
  },
  {
   "cell_type": "code",
   "execution_count": null,
   "id": "872ce9d1-971d-4506-844b-5d975f6e3a6d",
   "metadata": {},
   "outputs": [],
   "source": []
  }
 ],
 "metadata": {
  "kernelspec": {
   "display_name": "Python 3 (ipykernel)",
   "language": "python",
   "name": "python3"
  },
  "language_info": {
   "codemirror_mode": {
    "name": "ipython",
    "version": 3
   },
   "file_extension": ".py",
   "mimetype": "text/x-python",
   "name": "python",
   "nbconvert_exporter": "python",
   "pygments_lexer": "ipython3",
   "version": "3.10.8"
  }
 },
 "nbformat": 4,
 "nbformat_minor": 5
}
